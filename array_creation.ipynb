{
  "nbformat": 4,
  "nbformat_minor": 0,
  "metadata": {
    "colab": {
      "provenance": [],
      "authorship_tag": "ABX9TyMlEn6YOckjDkiEdDAbwgin",
      "include_colab_link": true
    },
    "kernelspec": {
      "name": "python3",
      "display_name": "Python 3"
    },
    "language_info": {
      "name": "python"
    }
  },
  "cells": [
    {
      "cell_type": "markdown",
      "metadata": {
        "id": "view-in-github",
        "colab_type": "text"
      },
      "source": [
        "<a href=\"https://colab.research.google.com/github/Monica-KC/numpy-masterclass/blob/main/array_creation.ipynb\" target=\"_parent\"><img src=\"https://colab.research.google.com/assets/colab-badge.svg\" alt=\"Open In Colab\"/></a>"
      ]
    },
    {
      "cell_type": "code",
      "source": [
        "pip install numpy"
      ],
      "metadata": {
        "colab": {
          "base_uri": "https://localhost:8080/"
        },
        "id": "G62_Chl98U_t",
        "outputId": "59caa4a0-7e09-4086-8c03-72dd92ee32d9"
      },
      "execution_count": 8,
      "outputs": [
        {
          "output_type": "stream",
          "name": "stdout",
          "text": [
            "Requirement already satisfied: numpy in /usr/local/lib/python3.11/dist-packages (2.0.2)\n"
          ]
        }
      ]
    },
    {
      "cell_type": "code",
      "source": [
        "import numpy as np"
      ],
      "metadata": {
        "id": "1z8z7hlX8bxW"
      },
      "execution_count": 9,
      "outputs": []
    },
    {
      "cell_type": "code",
      "source": [
        "#Manual Array creation\n",
        "arr_1d=np.array([1,2,3,4,5])\n",
        "arr_2d=np.array([[2,4,6,8],[3,5,7,9]])\n",
        "arr_3d=np.array([True, False, 1, 0], dtype=bool)\n",
        "print(\"1D Array :\",arr_1d)\n",
        "print(\"2D_Array : \",arr_2d)\n",
        "print(arr_3d)"
      ],
      "metadata": {
        "colab": {
          "base_uri": "https://localhost:8080/"
        },
        "id": "ouISYfrh8fkD",
        "outputId": "f0eda557-58df-4aa2-c03c-187f4b0f649f"
      },
      "execution_count": 18,
      "outputs": [
        {
          "output_type": "stream",
          "name": "stdout",
          "text": [
            "1D Array : [1 2 3 4 5]\n",
            "2D_Array :  [[2 4 6 8]\n",
            " [3 5 7 9]]\n",
            "[ True False  True False]\n"
          ]
        }
      ]
    },
    {
      "cell_type": "code",
      "source": [],
      "metadata": {
        "id": "XpJwlMALCqFS"
      },
      "execution_count": null,
      "outputs": []
    }
  ]
}